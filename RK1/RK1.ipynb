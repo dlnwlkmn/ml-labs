{
 "cells": [
  {
   "cell_type": "markdown",
   "metadata": {},
   "source": [
    "# Рубежный контроль №1  \n",
    "## Савельев Алексей ИУ5-64б Вариант 2-6\n",
    "### Используемый набор данных:\n",
    "#### Контекст\n",
    "\n",
    "Данные по управлению персоналом могут быть труднодоступными, а специалисты по персоналу, как правило, отстают в отношении компетенции в области аналитики и визуализации данных. Таким образом, доктор Мы с Карлой Паталано поставили перед собой целью создать свой собственный набор данных, связанный с персоналом, который используется на одном из наших курсов MSHRM под названием HR Metrics and Analytics, в Колледже бизнеса Новой Англии. Мы сами создали этот набор данных. Мы используем набор данных, чтобы научить студентов отдела кадров использовать и анализировать данные в Tableau Desktop - инструменте визуализации данных, который легко освоить.\n",
    "\n",
    "Обратите внимание, что этот набор данных не идеален. По замыслу есть некоторые проблемы. Он в первую очередь разработан как обучающий набор данных - научить кадровых специалистов работе с данными и аналитикой.\n",
    "\n",
    "\n",
    "#### Содержание\n",
    "\n",
    "Мы сократили сложность набора данных до одного файла данных (v14). CSV вращается вокруг вымышленной компании, и основной набор данных содержит имена, DOB, возраст, пол, семейное положение, дату найма, причины увольнения, отдел, независимо от того, активны они или уволены, должность, ставку заработной платы, имя менеджера и оценку работы."
   ]
  },
  {
   "cell_type": "code",
   "execution_count": 69,
   "metadata": {},
   "outputs": [],
   "source": [
    "# Импортируем библиотеки\n",
    "import numpy as np\n",
    "import pandas as pd\n",
    "import seaborn as sns\n",
    "import matplotlib.pyplot as plt\n",
    "from random import randint as ri\n",
    "%matplotlib inline \n",
    "sns.set(style=\"ticks\")"
   ]
  },
  {
   "cell_type": "code",
   "execution_count": 70,
   "metadata": {},
   "outputs": [],
   "source": [
    "# читаем данные набора\n",
    "data = pd.read_csv('JupyterNotebooks/data/RK1_dataset.csv', sep=\",\")"
   ]
  },
  {
   "cell_type": "code",
   "execution_count": 71,
   "metadata": {},
   "outputs": [
    {
     "data": {
      "text/plain": [
       "(311, 36)"
      ]
     },
     "execution_count": 71,
     "metadata": {},
     "output_type": "execute_result"
    }
   ],
   "source": [
    "data.shape"
   ]
  },
  {
   "cell_type": "code",
   "execution_count": 72,
   "metadata": {},
   "outputs": [
    {
     "data": {
      "text/plain": [
       "Employee_Name                   0\n",
       "EmpID                           0\n",
       "MarriedID                       0\n",
       "MaritalStatusID                 0\n",
       "GenderID                        0\n",
       "EmpStatusID                     0\n",
       "DeptID                          0\n",
       "PerfScoreID                     0\n",
       "FromDiversityJobFairID          0\n",
       "Salary                          0\n",
       "Termd                           0\n",
       "PositionID                      0\n",
       "Position                        0\n",
       "State                           0\n",
       "Zip                             0\n",
       "DOB                             0\n",
       "Sex                             0\n",
       "MaritalDesc                     0\n",
       "CitizenDesc                     0\n",
       "HispanicLatino                  0\n",
       "RaceDesc                        0\n",
       "DateofHire                      0\n",
       "DateofTermination             207\n",
       "TermReason                      0\n",
       "EmploymentStatus                0\n",
       "Department                      0\n",
       "ManagerName                     0\n",
       "ManagerID                       8\n",
       "RecruitmentSource               0\n",
       "PerformanceScore                0\n",
       "EngagementSurvey                0\n",
       "EmpSatisfaction                 0\n",
       "SpecialProjectsCount            0\n",
       "LastPerformanceReview_Date      0\n",
       "DaysLateLast30                  0\n",
       "Absences                        0\n",
       "dtype: int64"
      ]
     },
     "execution_count": 72,
     "metadata": {},
     "output_type": "execute_result"
    }
   ],
   "source": [
    "# суммы пропусков по столбцам\n",
    "data.isnull().sum()"
   ]
  },
  {
   "cell_type": "code",
   "execution_count": 73,
   "metadata": {},
   "outputs": [
    {
     "data": {
      "text/plain": [
       "Employee_Name                  object\n",
       "EmpID                           int64\n",
       "MarriedID                       int64\n",
       "MaritalStatusID                 int64\n",
       "GenderID                        int64\n",
       "EmpStatusID                     int64\n",
       "DeptID                          int64\n",
       "PerfScoreID                     int64\n",
       "FromDiversityJobFairID          int64\n",
       "Salary                          int64\n",
       "Termd                           int64\n",
       "PositionID                      int64\n",
       "Position                       object\n",
       "State                          object\n",
       "Zip                             int64\n",
       "DOB                            object\n",
       "Sex                            object\n",
       "MaritalDesc                    object\n",
       "CitizenDesc                    object\n",
       "HispanicLatino                 object\n",
       "RaceDesc                       object\n",
       "DateofHire                     object\n",
       "DateofTermination              object\n",
       "TermReason                     object\n",
       "EmploymentStatus               object\n",
       "Department                     object\n",
       "ManagerName                    object\n",
       "ManagerID                     float64\n",
       "RecruitmentSource              object\n",
       "PerformanceScore               object\n",
       "EngagementSurvey              float64\n",
       "EmpSatisfaction                 int64\n",
       "SpecialProjectsCount            int64\n",
       "LastPerformanceReview_Date     object\n",
       "DaysLateLast30                  int64\n",
       "Absences                        int64\n",
       "dtype: object"
      ]
     },
     "execution_count": 73,
     "metadata": {},
     "output_type": "execute_result"
    }
   ],
   "source": [
    "# типы данных столбцов\n",
    "data.dtypes"
   ]
  },
  {
   "cell_type": "markdown",
   "metadata": {},
   "source": [
    "В данном наборе данных есть пропуски, много категориальных в столбце DateofTermination, и не много количественных в столбце ManagerID. Получим эти колонки в списке."
   ]
  },
  {
   "cell_type": "code",
   "execution_count": 74,
   "metadata": {},
   "outputs": [
    {
     "name": "stdout",
     "output_type": "stream",
     "text": [
      "Колонка DateofTermination. Тип данных object. Количество пустых значений 207, 66.56%.\n",
      "Колонка ManagerID. Тип данных float64. Количество пустых значений 8, 2.57%.\n"
     ]
    }
   ],
   "source": [
    "# Выберем числовые колонки с пропущенными значениями\n",
    "# Цикл по колонкам датасета\n",
    "num_cols = []\n",
    "cat_cols = []\n",
    "temp_perc = 0\n",
    "total_count = data.shape[0]\n",
    "for col in data.columns:\n",
    "    # Количество пустых значений \n",
    "    temp_null_count = data[data[col].isnull()].shape[0]\n",
    "    dt = str(data[col].dtype)\n",
    "    if temp_null_count>0 and (dt=='float64' or dt=='int64'):\n",
    "        num_cols.append(col)\n",
    "        temp_perc = round((temp_null_count / total_count) * 100.0, 2)\n",
    "        \n",
    "    if temp_null_count>0 and dt=='object':\n",
    "        cat_cols.append(col)\n",
    "        temp_perc = round((temp_null_count / total_count) * 100.0, 2)\n",
    "        \n",
    "    if temp_null_count>0 and (dt=='float64' or dt=='int64' or dt=='object'):\n",
    "        print('Колонка {}. Тип данных {}. Количество пустых значений {}, {}%.'.format(col, dt, temp_null_count, temp_perc))"
   ]
  },
  {
   "cell_type": "markdown",
   "metadata": {},
   "source": [
    "### Количественные пропуски\n",
    "В столбце ManagerID прописанные и пногократно повторяются ID менеджеров в диапазоне от 1 до 39, поэтому пропущенные значения можно записать одним из ID из используемого диапазона, так как это ни на что не повлияет."
   ]
  },
  {
   "cell_type": "code",
   "execution_count": 75,
   "metadata": {},
   "outputs": [],
   "source": [
    "sett = sorted(data[num_cols[0]].unique())\n",
    "data[num_cols[0]].fillna(sett[random.randint(0, len(sett))], inplace=True)"
   ]
  },
  {
   "cell_type": "code",
   "execution_count": 76,
   "metadata": {},
   "outputs": [
    {
     "data": {
      "text/plain": [
       "Employee_Name                   0\n",
       "EmpID                           0\n",
       "MarriedID                       0\n",
       "MaritalStatusID                 0\n",
       "GenderID                        0\n",
       "EmpStatusID                     0\n",
       "DeptID                          0\n",
       "PerfScoreID                     0\n",
       "FromDiversityJobFairID          0\n",
       "Salary                          0\n",
       "Termd                           0\n",
       "PositionID                      0\n",
       "Position                        0\n",
       "State                           0\n",
       "Zip                             0\n",
       "DOB                             0\n",
       "Sex                             0\n",
       "MaritalDesc                     0\n",
       "CitizenDesc                     0\n",
       "HispanicLatino                  0\n",
       "RaceDesc                        0\n",
       "DateofHire                      0\n",
       "DateofTermination             207\n",
       "TermReason                      0\n",
       "EmploymentStatus                0\n",
       "Department                      0\n",
       "ManagerName                     0\n",
       "ManagerID                       0\n",
       "RecruitmentSource               0\n",
       "PerformanceScore                0\n",
       "EngagementSurvey                0\n",
       "EmpSatisfaction                 0\n",
       "SpecialProjectsCount            0\n",
       "LastPerformanceReview_Date      0\n",
       "DaysLateLast30                  0\n",
       "Absences                        0\n",
       "dtype: int64"
      ]
     },
     "execution_count": 76,
     "metadata": {},
     "output_type": "execute_result"
    }
   ],
   "source": [
    "data.isnull().sum()"
   ]
  },
  {
   "cell_type": "markdown",
   "metadata": {},
   "source": [
    "Таким образом мы исправили пропуски количественных данных\n",
    "### Качественные пропуски"
   ]
  },
  {
   "cell_type": "code",
   "execution_count": 77,
   "metadata": {},
   "outputs": [
    {
     "data": {
      "text/plain": [
       "0            NaN\n",
       "1      6/16/2016\n",
       "2      9/24/2012\n",
       "3            NaN\n",
       "4       9/6/2016\n",
       "         ...    \n",
       "306          NaN\n",
       "307    9/29/2015\n",
       "308          NaN\n",
       "309          NaN\n",
       "310          NaN\n",
       "Name: DateofTermination, Length: 311, dtype: object"
      ]
     },
     "execution_count": 77,
     "metadata": {},
     "output_type": "execute_result"
    }
   ],
   "source": [
    "data['DateofTermination']"
   ]
  },
  {
   "cell_type": "markdown",
   "metadata": {},
   "source": [
    "Если количественными пропусками можно было пренебречь, так как было пропущено всего 8 значений, то качественных значений пропущенно слишком много. Применю тот же подход: не буду сильно отдаляться от уже записанных дат (по годам), а значения дней и месяцев буду генерировать наугад."
   ]
  },
  {
   "cell_type": "code",
   "execution_count": 78,
   "metadata": {},
   "outputs": [
    {
     "name": "stdout",
     "output_type": "stream",
     "text": [
      "['2010', '2011', '2012', '2013', '2014', '2015', '2016', '2017', '2018']\n"
     ]
    }
   ],
   "source": [
    "not_null_cat_data = data[data[cat_cols[0]].notna()]\n",
    "dates = not_null_cat_data[cat_cols[0]]\n",
    "years = set()\n",
    "for date in dates:\n",
    "    date = date.split('/')\n",
    "    years.add(date[2])\n",
    "years = sorted(years)\n",
    "print(years)"
   ]
  },
  {
   "cell_type": "markdown",
   "metadata": {},
   "source": [
    "Сгенерируем рандомные даты в эти года след образом:"
   ]
  },
  {
   "cell_type": "code",
   "execution_count": 79,
   "metadata": {},
   "outputs": [
    {
     "name": "stdout",
     "output_type": "stream",
     "text": [
      "22 8 2013\n"
     ]
    }
   ],
   "source": [
    "day = ri(1,28)\n",
    "month = ri(1,12)\n",
    "year = ri(int(years[0]), int(years[-1]))\n",
    "print(day, month, year)"
   ]
  },
  {
   "cell_type": "code",
   "execution_count": 81,
   "metadata": {},
   "outputs": [
    {
     "data": {
      "text/plain": [
       "Employee_Name                 0\n",
       "EmpID                         0\n",
       "MarriedID                     0\n",
       "MaritalStatusID               0\n",
       "GenderID                      0\n",
       "EmpStatusID                   0\n",
       "DeptID                        0\n",
       "PerfScoreID                   0\n",
       "FromDiversityJobFairID        0\n",
       "Salary                        0\n",
       "Termd                         0\n",
       "PositionID                    0\n",
       "Position                      0\n",
       "State                         0\n",
       "Zip                           0\n",
       "DOB                           0\n",
       "Sex                           0\n",
       "MaritalDesc                   0\n",
       "CitizenDesc                   0\n",
       "HispanicLatino                0\n",
       "RaceDesc                      0\n",
       "DateofHire                    0\n",
       "DateofTermination             0\n",
       "TermReason                    0\n",
       "EmploymentStatus              0\n",
       "Department                    0\n",
       "ManagerName                   0\n",
       "ManagerID                     0\n",
       "RecruitmentSource             0\n",
       "PerformanceScore              0\n",
       "EngagementSurvey              0\n",
       "EmpSatisfaction               0\n",
       "SpecialProjectsCount          0\n",
       "LastPerformanceReview_Date    0\n",
       "DaysLateLast30                0\n",
       "Absences                      0\n",
       "dtype: int64"
      ]
     },
     "execution_count": 81,
     "metadata": {},
     "output_type": "execute_result"
    }
   ],
   "source": [
    "data[cat_cols[0]].fillna(f'{ri(1,28)}/{ri(1,12)}/{ri(int(years[0]), int(years[-1]))}', inplace=True)\n",
    "data.isnull().sum()"
   ]
  },
  {
   "cell_type": "markdown",
   "metadata": {},
   "source": [
    "### в итоге обработали все пропущенные данные"
   ]
  }
 ],
 "metadata": {
  "kernelspec": {
   "display_name": "Python 3",
   "language": "python",
   "name": "python3"
  },
  "language_info": {
   "codemirror_mode": {
    "name": "ipython",
    "version": 3
   },
   "file_extension": ".py",
   "mimetype": "text/x-python",
   "name": "python",
   "nbconvert_exporter": "python",
   "pygments_lexer": "ipython3",
   "version": "3.8.5"
  }
 },
 "nbformat": 4,
 "nbformat_minor": 4
}
