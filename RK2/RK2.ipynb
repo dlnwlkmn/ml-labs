{
 "cells": [
  {
   "cell_type": "markdown",
   "metadata": {},
   "source": [
    "**Савельев Алексей** ИУ5-64б **Вариант №14**"
   ]
  },
  {
   "cell_type": "markdown",
   "metadata": {},
   "source": [
    "# Рубежный контроль №2\n",
    "\n",
    "Необходимо подготовить отчет по рубежному контролю и разместить его в Вашем репозитории. Вы можете использовать титульный лист, или в начале ноутбука в текстовой ячейке указать Ваши Ф.И.О. и группу.\n",
    "\n",
    "**Тема: Методы построения моделей машинного обучения.**\n",
    "\n",
    "## Задание\n",
    "Для заданного набора данных (по Вашему варианту) постройте модели классификации или регрессии (в зависимости от конкретной задачи, рассматриваемой в наборе данных). Для построения моделей используйте методы 1 и 2 (по варианту для Вашей группы). Оцените качество моделей на основе подходящих метрик качества (не менее двух метрик). Какие метрики качества Вы использовали и почему? Какие выводы Вы можете сделать о качестве построенных моделей? Для построения моделей необходимо выполнить требуемую предобработку данных: заполнение пропусков, кодирование категориальных признаков, и т.д.\n",
    "\n",
    "При решении задач можно выбирать любое подмножество признаков из приведенного набора данных.\n",
    "Для сокращения времени построения моделей можно использовать фрагмент набора данных (например, первые 200-500 строк).\n",
    "\n",
    "**Метод 1**: Линейная/логистическая регрессия **Метод 2**: Градиентный бустинг\n",
    "\n"
   ]
  },
  {
   "cell_type": "markdown",
   "metadata": {},
   "source": [
    "### Разбивка столбцов\n",
    "\n",
    "**Идентификация**  \n",
    "PRIMARY_KEY: комбинация года и названия штата.  \n",
    "YEAR  \n",
    "STATE  \n",
    "\n",
    "**Зачисление**  \n",
    "Разбивка учащихся, обучающихся в школах, по учебным годам.  \n",
    "\n",
    "GRADES_PK: Количество учащихся в дошкольном образовании.  \n",
    "GRADES_4: Количество учащихся в четвертом классе.  \n",
    "GRADES_8: Количество учащихся в восьмом классе.  \n",
    "GRADES_12: Количество учащихся в двенадцатом классе.  \n",
    "GRADES_1_8: Количество учащихся с первого по восьмой классы.  \n",
    "9_12 КЛАССЫ: Количество учащихся с девятого по двенадцатый классы.  \n",
    "GRADES_ALL: количество всех студентов в штате. Сопоставимо с ЗАЧИСЛЕНИЕМ в финансовые данные (что является США).  \n",
    "Оценка Бюро переписи населения для студентов в штате).  \n",
    "Расширенная версия states_all содержит дополнительные столбцы с разбивкой регистрации по расе и полу.  \n",
    "Например:  \n",
    "\n",
    "G06_A_A: Общее количество учащихся шестого класса.  \n",
    "G06_AS_M: Число учащихся шестого класса мужского пола, этническая принадлежность которых была классифицирована как \"азиатская\".  \n",
    "G08_AS_A_READING: Средний балл по чтению учащихся восьмого класса, этническая принадлежность которых была классифицирована как \"азиатская\".  \n",
    "Представленные расы включают AM (американский индеец или уроженец Аляски), AS (азиат), HI (латиноамериканец/латиноамериканец), BL (Черный или афроамериканец), WH (Белый), HP (уроженец Гавайев/Тихоокеанских островов) и TR (Две или более рас). К представленным полам относятся M (Мужчина) и F (Женщина).  \n",
    "\n",
    "**Финансовые показатели**  \n",
    "Разбивка штатов по доходам и расходам.  \n",
    "\n",
    "ENROLL: Данные Бюро переписи населения США о количестве студентов в штате. Должно быть сопоставимо с GRADES_ALL (что является оценкой NCES для студентов в штате).  \n",
    "TOTAL REVENUE: общая сумма доходов для государства.  \n",
    "\n",
    "FEDERAL_REVENUE  \n",
    "STATE_REVENUE  \n",
    "LOCAL_REVENUE  \n",
    "TOTAL_EXPENDITURE: общие расходы государства.  \n",
    "\n",
    "INSTRUCTION_EXPENDITURE  \n",
    "SUPPORT_SERVICES_EXPENDITURE  \n",
    "CAPITAL_OUTLAY_EXPENDITURE  \n",
    "OTHER_EXPENDITURE  \n",
    "\n",
    "**Академические Достижения**  \n",
    "Разбивка успеваемости учащихся по результатам соответствующих экзаменов (математика и чтение, 4 и 8 классы).  \n",
    "\n",
    "AVG_MATH_4_SCORE: средний балл по штату для четвероклассников, сдающих экзамен по математике NAEP.  \n",
    "AVG_MATH_8_SCORE: средний балл штата для восьмиклассников, сдающих экзамен по математике NAEP.  \n",
    "AVG_READING_4_SCORE: средний балл по штату для четвероклассников, сдающих экзамен по чтению NAEP.  \n",
    "AVG_READING_8_SCORE: средний балл по штату для восьмиклассников, сдающих экзамен по чтению NAEP.  "
   ]
  },
  {
   "cell_type": "code",
   "execution_count": 1,
   "metadata": {},
   "outputs": [],
   "source": [
    "# Импортируем библиотеки\n",
    "import numpy as np\n",
    "import pandas as pd\n",
    "import seaborn as sns\n",
    "import matplotlib.pyplot as plt\n",
    "from random import randint as ri\n",
    "%matplotlib inline \n",
    "sns.set(style=\"ticks\")"
   ]
  },
  {
   "cell_type": "code",
   "execution_count": 5,
   "metadata": {},
   "outputs": [],
   "source": [
    "# читаем данные набора\n",
    "data = pd.read_csv('/Users/savelevaa/JupyterNotebooks/data/rk2_data.csv', sep=\",\")"
   ]
  },
  {
   "cell_type": "code",
   "execution_count": 6,
   "metadata": {},
   "outputs": [
    {
     "data": {
      "text/plain": [
       "(1715, 25)"
      ]
     },
     "execution_count": 6,
     "metadata": {},
     "output_type": "execute_result"
    }
   ],
   "source": [
    "data.shape"
   ]
  },
  {
   "cell_type": "code",
   "execution_count": 8,
   "metadata": {},
   "outputs": [
    {
     "data": {
      "text/plain": [
       "PRIMARY_KEY                      object\n",
       "STATE                            object\n",
       "YEAR                              int64\n",
       "ENROLL                          float64\n",
       "TOTAL_REVENUE                   float64\n",
       "FEDERAL_REVENUE                 float64\n",
       "STATE_REVENUE                   float64\n",
       "LOCAL_REVENUE                   float64\n",
       "TOTAL_EXPENDITURE               float64\n",
       "INSTRUCTION_EXPENDITURE         float64\n",
       "SUPPORT_SERVICES_EXPENDITURE    float64\n",
       "OTHER_EXPENDITURE               float64\n",
       "CAPITAL_OUTLAY_EXPENDITURE      float64\n",
       "GRADES_PK_G                     float64\n",
       "GRADES_KG_G                     float64\n",
       "GRADES_4_G                      float64\n",
       "GRADES_8_G                      float64\n",
       "GRADES_12_G                     float64\n",
       "GRADES_1_8_G                    float64\n",
       "GRADES_9_12_G                   float64\n",
       "GRADES_ALL_G                    float64\n",
       "AVG_MATH_4_SCORE                float64\n",
       "AVG_MATH_8_SCORE                float64\n",
       "AVG_READING_4_SCORE             float64\n",
       "AVG_READING_8_SCORE             float64\n",
       "dtype: object"
      ]
     },
     "execution_count": 8,
     "metadata": {},
     "output_type": "execute_result"
    }
   ],
   "source": [
    "data.dtypes"
   ]
  },
  {
   "cell_type": "code",
   "execution_count": 7,
   "metadata": {},
   "outputs": [
    {
     "data": {
      "text/plain": [
       "PRIMARY_KEY                        0\n",
       "STATE                              0\n",
       "YEAR                               0\n",
       "ENROLL                           491\n",
       "TOTAL_REVENUE                    440\n",
       "FEDERAL_REVENUE                  440\n",
       "STATE_REVENUE                    440\n",
       "LOCAL_REVENUE                    440\n",
       "TOTAL_EXPENDITURE                440\n",
       "INSTRUCTION_EXPENDITURE          440\n",
       "SUPPORT_SERVICES_EXPENDITURE     440\n",
       "OTHER_EXPENDITURE                491\n",
       "CAPITAL_OUTLAY_EXPENDITURE       440\n",
       "GRADES_PK_G                      173\n",
       "GRADES_KG_G                       83\n",
       "GRADES_4_G                        83\n",
       "GRADES_8_G                        83\n",
       "GRADES_12_G                       83\n",
       "GRADES_1_8_G                     695\n",
       "GRADES_9_12_G                    644\n",
       "GRADES_ALL_G                      83\n",
       "AVG_MATH_4_SCORE                1150\n",
       "AVG_MATH_8_SCORE                1113\n",
       "AVG_READING_4_SCORE             1065\n",
       "AVG_READING_8_SCORE             1153\n",
       "dtype: int64"
      ]
     },
     "execution_count": 7,
     "metadata": {},
     "output_type": "execute_result"
    }
   ],
   "source": [
    "# суммы пропусков по столбцам\n",
    "data.isnull().sum()"
   ]
  },
  {
   "cell_type": "code",
   "execution_count": 9,
   "metadata": {},
   "outputs": [
    {
     "data": {
      "text/html": [
       "<div>\n",
       "<style scoped>\n",
       "    .dataframe tbody tr th:only-of-type {\n",
       "        vertical-align: middle;\n",
       "    }\n",
       "\n",
       "    .dataframe tbody tr th {\n",
       "        vertical-align: top;\n",
       "    }\n",
       "\n",
       "    .dataframe thead th {\n",
       "        text-align: right;\n",
       "    }\n",
       "</style>\n",
       "<table border=\"1\" class=\"dataframe\">\n",
       "  <thead>\n",
       "    <tr style=\"text-align: right;\">\n",
       "      <th></th>\n",
       "      <th>PRIMARY_KEY</th>\n",
       "      <th>STATE</th>\n",
       "      <th>YEAR</th>\n",
       "      <th>ENROLL</th>\n",
       "      <th>TOTAL_REVENUE</th>\n",
       "      <th>FEDERAL_REVENUE</th>\n",
       "      <th>STATE_REVENUE</th>\n",
       "      <th>LOCAL_REVENUE</th>\n",
       "      <th>TOTAL_EXPENDITURE</th>\n",
       "      <th>INSTRUCTION_EXPENDITURE</th>\n",
       "      <th>...</th>\n",
       "      <th>GRADES_4_G</th>\n",
       "      <th>GRADES_8_G</th>\n",
       "      <th>GRADES_12_G</th>\n",
       "      <th>GRADES_1_8_G</th>\n",
       "      <th>GRADES_9_12_G</th>\n",
       "      <th>GRADES_ALL_G</th>\n",
       "      <th>AVG_MATH_4_SCORE</th>\n",
       "      <th>AVG_MATH_8_SCORE</th>\n",
       "      <th>AVG_READING_4_SCORE</th>\n",
       "      <th>AVG_READING_8_SCORE</th>\n",
       "    </tr>\n",
       "  </thead>\n",
       "  <tbody>\n",
       "    <tr>\n",
       "      <th>0</th>\n",
       "      <td>1992_ALABAMA</td>\n",
       "      <td>ALABAMA</td>\n",
       "      <td>1992</td>\n",
       "      <td>NaN</td>\n",
       "      <td>2678885.0</td>\n",
       "      <td>304177.0</td>\n",
       "      <td>1659028.0</td>\n",
       "      <td>715680.0</td>\n",
       "      <td>2653798.0</td>\n",
       "      <td>1481703.0</td>\n",
       "      <td>...</td>\n",
       "      <td>57948.0</td>\n",
       "      <td>58025.0</td>\n",
       "      <td>41167.0</td>\n",
       "      <td>NaN</td>\n",
       "      <td>NaN</td>\n",
       "      <td>731634.0</td>\n",
       "      <td>208.0</td>\n",
       "      <td>252.0</td>\n",
       "      <td>207.0</td>\n",
       "      <td>NaN</td>\n",
       "    </tr>\n",
       "    <tr>\n",
       "      <th>1</th>\n",
       "      <td>1992_ALASKA</td>\n",
       "      <td>ALASKA</td>\n",
       "      <td>1992</td>\n",
       "      <td>NaN</td>\n",
       "      <td>1049591.0</td>\n",
       "      <td>106780.0</td>\n",
       "      <td>720711.0</td>\n",
       "      <td>222100.0</td>\n",
       "      <td>972488.0</td>\n",
       "      <td>498362.0</td>\n",
       "      <td>...</td>\n",
       "      <td>9748.0</td>\n",
       "      <td>8789.0</td>\n",
       "      <td>6714.0</td>\n",
       "      <td>NaN</td>\n",
       "      <td>NaN</td>\n",
       "      <td>122487.0</td>\n",
       "      <td>NaN</td>\n",
       "      <td>NaN</td>\n",
       "      <td>NaN</td>\n",
       "      <td>NaN</td>\n",
       "    </tr>\n",
       "    <tr>\n",
       "      <th>2</th>\n",
       "      <td>1992_ARIZONA</td>\n",
       "      <td>ARIZONA</td>\n",
       "      <td>1992</td>\n",
       "      <td>NaN</td>\n",
       "      <td>3258079.0</td>\n",
       "      <td>297888.0</td>\n",
       "      <td>1369815.0</td>\n",
       "      <td>1590376.0</td>\n",
       "      <td>3401580.0</td>\n",
       "      <td>1435908.0</td>\n",
       "      <td>...</td>\n",
       "      <td>55433.0</td>\n",
       "      <td>49081.0</td>\n",
       "      <td>37410.0</td>\n",
       "      <td>NaN</td>\n",
       "      <td>NaN</td>\n",
       "      <td>673477.0</td>\n",
       "      <td>215.0</td>\n",
       "      <td>265.0</td>\n",
       "      <td>209.0</td>\n",
       "      <td>NaN</td>\n",
       "    </tr>\n",
       "    <tr>\n",
       "      <th>3</th>\n",
       "      <td>1992_ARKANSAS</td>\n",
       "      <td>ARKANSAS</td>\n",
       "      <td>1992</td>\n",
       "      <td>NaN</td>\n",
       "      <td>1711959.0</td>\n",
       "      <td>178571.0</td>\n",
       "      <td>958785.0</td>\n",
       "      <td>574603.0</td>\n",
       "      <td>1743022.0</td>\n",
       "      <td>964323.0</td>\n",
       "      <td>...</td>\n",
       "      <td>34632.0</td>\n",
       "      <td>36011.0</td>\n",
       "      <td>27651.0</td>\n",
       "      <td>NaN</td>\n",
       "      <td>NaN</td>\n",
       "      <td>441490.0</td>\n",
       "      <td>210.0</td>\n",
       "      <td>256.0</td>\n",
       "      <td>211.0</td>\n",
       "      <td>NaN</td>\n",
       "    </tr>\n",
       "    <tr>\n",
       "      <th>4</th>\n",
       "      <td>1992_CALIFORNIA</td>\n",
       "      <td>CALIFORNIA</td>\n",
       "      <td>1992</td>\n",
       "      <td>NaN</td>\n",
       "      <td>26260025.0</td>\n",
       "      <td>2072470.0</td>\n",
       "      <td>16546514.0</td>\n",
       "      <td>7641041.0</td>\n",
       "      <td>27138832.0</td>\n",
       "      <td>14358922.0</td>\n",
       "      <td>...</td>\n",
       "      <td>418418.0</td>\n",
       "      <td>363296.0</td>\n",
       "      <td>270675.0</td>\n",
       "      <td>NaN</td>\n",
       "      <td>NaN</td>\n",
       "      <td>5254844.0</td>\n",
       "      <td>208.0</td>\n",
       "      <td>261.0</td>\n",
       "      <td>202.0</td>\n",
       "      <td>NaN</td>\n",
       "    </tr>\n",
       "  </tbody>\n",
       "</table>\n",
       "<p>5 rows × 25 columns</p>\n",
       "</div>"
      ],
      "text/plain": [
       "       PRIMARY_KEY       STATE  YEAR  ENROLL  TOTAL_REVENUE  FEDERAL_REVENUE  \\\n",
       "0     1992_ALABAMA     ALABAMA  1992     NaN      2678885.0         304177.0   \n",
       "1      1992_ALASKA      ALASKA  1992     NaN      1049591.0         106780.0   \n",
       "2     1992_ARIZONA     ARIZONA  1992     NaN      3258079.0         297888.0   \n",
       "3    1992_ARKANSAS    ARKANSAS  1992     NaN      1711959.0         178571.0   \n",
       "4  1992_CALIFORNIA  CALIFORNIA  1992     NaN     26260025.0        2072470.0   \n",
       "\n",
       "   STATE_REVENUE  LOCAL_REVENUE  TOTAL_EXPENDITURE  INSTRUCTION_EXPENDITURE  \\\n",
       "0      1659028.0       715680.0          2653798.0                1481703.0   \n",
       "1       720711.0       222100.0           972488.0                 498362.0   \n",
       "2      1369815.0      1590376.0          3401580.0                1435908.0   \n",
       "3       958785.0       574603.0          1743022.0                 964323.0   \n",
       "4     16546514.0      7641041.0         27138832.0               14358922.0   \n",
       "\n",
       "   ...  GRADES_4_G  GRADES_8_G  GRADES_12_G  GRADES_1_8_G  GRADES_9_12_G  \\\n",
       "0  ...     57948.0     58025.0      41167.0           NaN            NaN   \n",
       "1  ...      9748.0      8789.0       6714.0           NaN            NaN   \n",
       "2  ...     55433.0     49081.0      37410.0           NaN            NaN   \n",
       "3  ...     34632.0     36011.0      27651.0           NaN            NaN   \n",
       "4  ...    418418.0    363296.0     270675.0           NaN            NaN   \n",
       "\n",
       "   GRADES_ALL_G  AVG_MATH_4_SCORE  AVG_MATH_8_SCORE  AVG_READING_4_SCORE  \\\n",
       "0      731634.0             208.0             252.0                207.0   \n",
       "1      122487.0               NaN               NaN                  NaN   \n",
       "2      673477.0             215.0             265.0                209.0   \n",
       "3      441490.0             210.0             256.0                211.0   \n",
       "4     5254844.0             208.0             261.0                202.0   \n",
       "\n",
       "   AVG_READING_8_SCORE  \n",
       "0                  NaN  \n",
       "1                  NaN  \n",
       "2                  NaN  \n",
       "3                  NaN  \n",
       "4                  NaN  \n",
       "\n",
       "[5 rows x 25 columns]"
      ]
     },
     "execution_count": 9,
     "metadata": {},
     "output_type": "execute_result"
    }
   ],
   "source": [
    "data.head(5)"
   ]
  },
  {
   "cell_type": "markdown",
   "metadata": {},
   "source": [
    "Рассмотрим корреляцию признаков набора данных"
   ]
  },
  {
   "cell_type": "code",
   "execution_count": 12,
   "metadata": {},
   "outputs": [
    {
     "data": {
      "text/plain": [
       "<AxesSubplot:>"
      ]
     },
     "execution_count": 12,
     "metadata": {},
     "output_type": "execute_result"
    },
    {
     "data": {
      "image/png": "[encoded data removed]",
      "text/plain": [
       "<Figure size 432x288 with 2 Axes>"
      ]
     },
     "metadata": {},
     "output_type": "display_data"
    }
   ],
   "source": [
    "import seaborn as sns\n",
    "\n",
    "sns.heatmap(data.corr(), cmap='viridis', fmt='.2f')"
   ]
  },
  {
   "cell_type": "markdown",
   "metadata": {},
   "source": [
    "Признак TOTAL_EXPENDITURE достаточно сильно коррелирует с признаком TOTAL_REVENUE, поэтому рассмотрим эту пару."
   ]
  },
  {
   "cell_type": "code",
   "execution_count": 26,
   "metadata": {},
   "outputs": [
    {
     "data": {
      "text/plain": [
       "PRIMARY_KEY                       0\n",
       "STATE                             0\n",
       "YEAR                              0\n",
       "ENROLL                           51\n",
       "TOTAL_REVENUE                     0\n",
       "FEDERAL_REVENUE                   0\n",
       "STATE_REVENUE                     0\n",
       "LOCAL_REVENUE                     0\n",
       "TOTAL_EXPENDITURE                 0\n",
       "INSTRUCTION_EXPENDITURE           0\n",
       "SUPPORT_SERVICES_EXPENDITURE      0\n",
       "OTHER_EXPENDITURE                51\n",
       "CAPITAL_OUTLAY_EXPENDITURE        0\n",
       "GRADES_PK_G                      13\n",
       "GRADES_KG_G                       0\n",
       "GRADES_4_G                        0\n",
       "GRADES_8_G                        0\n",
       "GRADES_12_G                       0\n",
       "GRADES_1_8_G                    255\n",
       "GRADES_9_12_G                   255\n",
       "GRADES_ALL_G                      0\n",
       "AVG_MATH_4_SCORE                835\n",
       "AVG_MATH_8_SCORE                836\n",
       "AVG_READING_4_SCORE             752\n",
       "AVG_READING_8_SCORE             839\n",
       "dtype: int64"
      ]
     },
     "execution_count": 26,
     "metadata": {},
     "output_type": "execute_result"
    }
   ],
   "source": [
    "# удалим строки с пропущенными значениями\n",
    "data = data[data['TOTAL_EXPENDITURE'].notna()]\n",
    "data = data[data['TOTAL_REVENUE'].notna()]\n",
    "\n",
    "# суммы пропусков по столбцам\n",
    "data.isnull().sum()"
   ]
  },
  {
   "cell_type": "markdown",
   "metadata": {},
   "source": [
    "## Разделим датасет на обучающую и тестовую выборки\n",
    "Для этого импортируем и используем метод train_test_split"
   ]
  },
  {
   "cell_type": "code",
   "execution_count": 27,
   "metadata": {},
   "outputs": [],
   "source": [
    "from sklearn.model_selection import train_test_split\n",
    "\n",
    "X_train, X_test, Y_train, Y_test = train_test_split(\n",
    "    data['TOTAL_EXPENDITURE'].values, data['TOTAL_REVENUE'].values, test_size=0.5, random_state=1)"
   ]
  },
  {
   "cell_type": "markdown",
   "metadata": {},
   "source": [
    "## Обучение моделей\n",
    "### Линейная модель LinearRegression"
   ]
  },
  {
   "cell_type": "code",
   "execution_count": 28,
   "metadata": {},
   "outputs": [],
   "source": [
    "from sklearn.linear_model import LinearRegression\n",
    "\n",
    "# Обучим модель линейной регрессии\n",
    "regr1 = LinearRegression().fit(X_train.reshape(-1, 1), Y_train.reshape(-1, 1))"
   ]
  },
  {
   "cell_type": "code",
   "execution_count": 30,
   "metadata": {},
   "outputs": [
    {
     "data": {
      "image/png": "[encoded data removed]",
      "text/plain": [
       "<Figure size 432x288 with 1 Axes>"
      ]
     },
     "metadata": {},
     "output_type": "display_data"
    }
   ],
   "source": [
    "import matplotlib.pyplot as plt\n",
    "\n",
    "y_array_regr = [regr1.coef_[0]*x+regr1.intercept_[0] for x in X_train]\n",
    "\n",
    "plt.plot(X_train, Y_train, 'c.')\n",
    "plt.plot(X_train, y_array_regr, 'r-', linewidth=1.0)\n",
    "plt.show()"
   ]
  },
  {
   "cell_type": "markdown",
   "metadata": {},
   "source": [
    "Прослеживается линейная зависимость"
   ]
  },
  {
   "cell_type": "markdown",
   "metadata": {},
   "source": [
    "Предскажем значения тестовой выборки и оценим качество обученной модели:"
   ]
  },
  {
   "cell_type": "code",
   "execution_count": 39,
   "metadata": {},
   "outputs": [],
   "source": [
    "predict1 = regr1.predict(X_test.reshape(-1, 1))"
   ]
  },
  {
   "cell_type": "code",
   "execution_count": 45,
   "metadata": {},
   "outputs": [
    {
     "name": "stdout",
     "output_type": "stream",
     "text": [
      "оценка R^2 для метода линейной регрессии: 0.9978151637896605\n"
     ]
    }
   ],
   "source": [
    "from sklearn.metrics import r2_score \n",
    "\n",
    "r_score_1 = r2_score(Y_test, predict1)\n",
    "\n",
    "print(f\"оценка R^2 для метода линейной регрессии: {r_score_1}\")"
   ]
  },
  {
   "cell_type": "markdown",
   "metadata": {},
   "source": [
    "Обученная модель предсказывает значения целевого признака достаточно точно."
   ]
  },
  {
   "cell_type": "markdown",
   "metadata": {},
   "source": [
    "### Градиентный бустинг"
   ]
  },
  {
   "cell_type": "code",
   "execution_count": 41,
   "metadata": {},
   "outputs": [],
   "source": [
    "from sklearn.ensemble import GradientBoostingRegressor\n",
    "\n",
    "# Обучим модель Градиентного бустинга\n",
    "regr2 = GradientBoostingRegressor(random_state=1).fit(X_train.reshape(-1, 1), Y_train)"
   ]
  },
  {
   "cell_type": "code",
   "execution_count": 42,
   "metadata": {},
   "outputs": [],
   "source": [
    "predict2= regr2.predict(X_test.reshape(-1, 1))"
   ]
  },
  {
   "cell_type": "code",
   "execution_count": 44,
   "metadata": {},
   "outputs": [
    {
     "name": "stdout",
     "output_type": "stream",
     "text": [
      "оценка R^2 для метода градиентного бустинга: 0.9967589376657955\n"
     ]
    }
   ],
   "source": [
    "r_score_2 = r2_score(Y_test, predict2)\n",
    "\n",
    "print(f\"оценка R^2 для метода градиентного бустинга: {r_score_2}\")"
   ]
  },
  {
   "cell_type": "code",
   "execution_count": 48,
   "metadata": {},
   "outputs": [
    {
     "name": "stdout",
     "output_type": "stream",
     "text": [
      "Оба метода предсказывают примерно одинаково\n"
     ]
    }
   ],
   "source": [
    "if abs(r_score_1-r_score_2) < 0.01:\n",
    "        print(\"Оба метода предсказывают примерно одинаково\")\n",
    "elif r_score_1 < r_score_2:\n",
    "    print(f\"Первый метод ({r_score_1}) хуже второго ({r_score_2}])\")\n",
    "else:\n",
    "    print(f\"Первый метод ({r_score_1}) лучше второго ({r_score_2}])\")"
   ]
  },
  {
   "cell_type": "markdown",
   "metadata": {},
   "source": [
    "##  Вывод\n",
    "В результате выполнения рубежного контроля были исследованы две модели, обученные разными методами, была произведена оценка предсказаний моделей, которая показала что оба метода одинаково хороши. Связанно это с тем что выбранные мной признаки сильно коррелируют между собой."
   ]
  }
 ],
 "metadata": {
  "kernelspec": {
   "display_name": "Python 3",
   "language": "python",
   "name": "python3"
  },
  "language_info": {
   "codemirror_mode": {
    "name": "ipython",
    "version": 3
   },
   "file_extension": ".py",
   "mimetype": "text/x-python",
   "name": "python",
   "nbconvert_exporter": "python",
   "pygments_lexer": "ipython3",
   "version": "3.8.5"
  }
 },
 "nbformat": 4,
 "nbformat_minor": 4
}
